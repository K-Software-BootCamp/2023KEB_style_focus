{
  "nbformat": 4,
  "nbformat_minor": 0,
  "metadata": {
    "colab": {
      "provenance": [],
      "authorship_tag": "ABX9TyPoH/Avkos5qlGsGVOQKoKj",
      "include_colab_link": true
    },
    "kernelspec": {
      "name": "python3",
      "display_name": "Python 3"
    },
    "language_info": {
      "name": "python"
    }
  },
  "cells": [
    {
      "cell_type": "markdown",
      "metadata": {
        "id": "view-in-github",
        "colab_type": "text"
      },
      "source": [
        "<a href=\"https://colab.research.google.com/github/S0HYUNN/Style_Focus/blob/DB_data/%EA%B2%8C%EC%8B%9C%EB%AC%BC_%EC%88%98%EC%A7%91_%EB%A8%B8%EC%8B%A0_style_focus.ipynb\" target=\"_parent\"><img src=\"https://colab.research.google.com/assets/colab-badge.svg\" alt=\"Open In Colab\"/></a>"
      ]
    },
    {
      "cell_type": "code",
      "source": [
        "# 데이터 수집 및 csv파일 변화-저장\n",
        "\n",
        "import requests\n",
        "import pandas as pd\n",
        "\n",
        "def get_facebook_data(url):\n",
        "    response = requests.get(url)\n",
        "    data = response.json()\n",
        "    return data\n",
        "\n",
        "def extract_user_info(data):\n",
        "    user_info = {\n",
        "        'username': data.get('username', ''),\n",
        "        'follows_count': data.get('follows_count', 0),\n",
        "        'profile_picture_url': data.get('profile_picture_url', ''),\n",
        "        'ig_id': data.get('ig_id', ''),\n",
        "        'followers_count': data.get('followers_count', 0),\n",
        "        'media_count': data.get('media_count', 0),\n",
        "    }\n",
        "    return user_info\n",
        "\n",
        "def extract_media_info(data):\n",
        "    media_list = []\n",
        "    media_data = data.get('media', {}).get('data', [])\n",
        "    for media in media_data:\n",
        "        media_info = {\n",
        "            'caption': media.get('caption', ''),\n",
        "            'comments_count': media.get('comments_count', 0),\n",
        "            'media_id': media.get('id', ''),\n",
        "            'like_count': media.get('like_count', 0),\n",
        "            'media_product_type': media.get('media_product_type', ''),\n",
        "            'media_type': media.get('media_type', ''),\n",
        "            'media_url': media.get('media_url', ''),\n",
        "            'timestamp': media.get('timestamp', ''),\n",
        "            'username': media.get('username', ''),\n",
        "        }\n",
        "        media_list.append(media_info)\n",
        "\n",
        "    return media_list\n",
        "\n",
        "def save_to_csv(data, filename):\n",
        "    df = pd.DataFrame(data)\n",
        "    df.to_csv(filename, index=False)\n",
        "\n",
        "\n",
        "if __name__ == \"__main__\":\n",
        "    user_name = input()\n",
        "    business_ig_id = \"17841405482908356\"\n",
        "    access_token = \"EAADyzhuZC910BO6LCJhJGZB6UUMZBBGZAbqoleoi6oHaz6jF3mNBoEs7a1ZCpcxo7Od7OaNv8G6hFdg2hZCoqOZATzEvxxrBl28jA9fxgDbujSl0kDi96EGzDpeUjzZC3WFFORh82uoFkvJJFtdA5t8ALoWBKZAGwcCbrVjZAoX9i6i35hPjsXBCCA9TANVnlUcgoZD\"\n",
        "    base_url_f = f\"https://graph.facebook.com/v17.0/{business_ig_id}?fields=business_discovery.username({user_name})%7Bbiography%2Cname%2Cusername%2Cfollows_count%2Cprofile_picture_url%2Cig_id%2Cfollowers_count%2Cmedia_count%2Cmedia\"\n",
        "    base_url_b = f\"%7Bcaption%2Ccomments_count%2Cid%2Cchildren%7Bmedia_url%2Cmedia_type%7D%2Clike_count%2Cmedia_product_type%2Cmedia_type%2Cmedia_url%2Cowner%2Cpermalink%2Ctimestamp%2Cusername%7D%7D&access_token={access_token}\"\n",
        "\n",
        "    data = get_facebook_data((base_url_f+base_url_b))\n",
        "    if 'business_discovery' in data:\n",
        "        user_info = extract_user_info(data['business_discovery'])\n",
        "\n",
        "        #get_media_data\n",
        "        media_list = []\n",
        "\n",
        "\n",
        "        for i in range(1):\n",
        "            media_list.extend(extract_media_info(data['business_discovery']))\n",
        "            while True:\n",
        "              after = data.get('business_discovery', {}).get('media', {}).get('paging', {}).get('cursors', {}).get('after', None)\n",
        "              if not after:\n",
        "                  break\n",
        "              next_url = (base_url_f+f\".after({after})\"+base_url_b)\n",
        "              data = get_facebook_data(next_url)\n",
        "              #print(extract_media_info(data['business_discovery']))\n",
        "              media_list.extend(extract_media_info(data['business_discovery']))\n",
        "              print(len(media_list))\n",
        "\n",
        "        save_to_csv([user_info], f\"{user_name}.csv\")\n",
        "        save_to_csv(media_list, f\"{user_name}_media.csv\")\n",
        "        print(\"CSV 파일이 성공적으로 생성되었습니다.\")\n",
        "    else:\n",
        "        print(\"데이터를 가져오지 못했습니다. URL과 access_token을 확인해주세요.\")\n"
      ],
      "metadata": {
        "id": "LCYbjEHCqbv3"
      },
      "execution_count": null,
      "outputs": []
    }
  ]
}
