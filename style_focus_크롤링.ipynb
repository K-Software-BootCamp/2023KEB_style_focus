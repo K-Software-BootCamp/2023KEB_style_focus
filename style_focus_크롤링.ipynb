{
  "nbformat": 4,
  "nbformat_minor": 0,
  "metadata": {
    "colab": {
      "provenance": [],
      "authorship_tag": "ABX9TyMLYcodeaelBnasYY+jT3LK",
      "include_colab_link": true
    },
    "kernelspec": {
      "name": "python3",
      "display_name": "Python 3"
    },
    "language_info": {
      "name": "python"
    }
  },
  "cells": [
    {
      "cell_type": "markdown",
      "metadata": {
        "id": "view-in-github",
        "colab_type": "text"
      },
      "source": [
        "<a href=\"https://colab.research.google.com/github/S0HYUNN/Style_Focus/blob/DB_data/style_focus_%ED%81%AC%EB%A1%A4%EB%A7%81.ipynb\" target=\"_parent\"><img src=\"https://colab.research.google.com/assets/colab-badge.svg\" alt=\"Open In Colab\"/></a>"
      ]
    },
    {
      "cell_type": "code",
      "source": [
        "# person 크롤링\n",
        "import requests\n",
        "import json\n",
        "import unicodedata\n",
        "\n",
        "# 주어진 URL로 요청을 보내서 JSON 데이터 받아오기\n",
        "def get_person_data(user_name):\n",
        "  url = f\"https://graph.facebook.com/v17.0/17841412144695568?fields=business_discovery.username({user_name})%7Bbiography%2Cname%2Cusername%2Cfollows_count%2Cprofile_picture_url%2Cig_id%2Cfollowers_count%2Cmedia_count%2Cmedia.limit(50)%7Bcaption%2Ccomments_count%2Cid%2Cchildren%7Bmedia_url%2Cmedia_type%7D%2Clike_count%2Cmedia_product_type%2Cmedia_type%2Cmedia_url%2Cowner%2Cpermalink%2Ctimestamp%2Cusername%7D%7D&access_token=EAAD4PlbYUeEBO3oldufkHkXFH1BTMYNZAT3tQo6ZAQOWJLAx6bNPFJfJcoEQ0ZCBNj4cfy4JPLccOtP6ZC6gu05qHVbBaMnwGrvvkkfJ30ZAeQik5Jo8sra9QGjxhwSF4uKx6SdCgpnmet9kzT1Pwjszyt4JrzJZBOOSVZAwnZAk5HoZBtU9vBuUi1M9oIam9JuoC\"\n",
        "  response = requests.get(url)\n",
        "  data = response.json()\n",
        "\n",
        "  # data 변수명 지정\n",
        "  if business_discovery:\n",
        "    person = {\n",
        "        \"save_date\": datetime.now().strftime(\"%Y/%m/%d\"),\n",
        "        \"biography\": business_discovery.get(\"biography\"),\n",
        "        \"name\": business_discovery.get(\"name\"),\n",
        "        \"username\": business_discovery.get(\"username\"),\n",
        "        \"follows_count\": business_discovery.get(\"follows_count\"),\n",
        "        \"profile_pic_url\": business_discovery.get(\"profile_picture_url\"),\n",
        "        \"website\": [],\n",
        "        \"ig_id\": business_discovery.get(\"ig_id\"),\n",
        "        \"followers_count\": business_discovery.get(\"followers_count\"),\n",
        "        \"media_count\": business_discovery.get(\"media_count\")\n",
        "    }\n",
        "\n",
        "  return person\n",
        "\n",
        "  # 출력 예시\n",
        "#  print(json.dumps(media_data, ensure_ascii=False, indent=2))  # 한글이 포함된 JSON을 출력할 때 ensure_ascii=False 사용\n",
        "\n",
        "# 이후 데이터를 PostgreSQL에 삽입하는 작업을 진행하시면 됩니다.\n",
        "\n"
      ],
      "metadata": {
        "id": "oIUP2IE3IQLH"
      },
      "execution_count": null,
      "outputs": []
    },
    {
      "cell_type": "code",
      "source": [
        "# media 크롤링\n",
        "import requests\n",
        "import json\n",
        "import unicodedata\n",
        "\n",
        "# 주어진 URL로 요청을 보내서 JSON 데이터 받아오기\n",
        "def get_media_data(user_name):\n",
        "  url = f\"https://graph.facebook.com/v17.0/17841412144695568?fields=business_discovery.username({user_name})%7Bbiography%2Cname%2Cusername%2Cfollows_count%2Cprofile_picture_url%2Cig_id%2Cfollowers_count%2Cmedia_count%2Cmedia.limit(50)%7Bcaption%2Ccomments_count%2Cid%2Cchildren%7Bmedia_url%2Cmedia_type%7D%2Clike_count%2Cmedia_product_type%2Cmedia_type%2Cmedia_url%2Cowner%2Cpermalink%2Ctimestamp%2Cusername%7D%7D&access_token=EAAD4PlbYUeEBO3oldufkHkXFH1BTMYNZAT3tQo6ZAQOWJLAx6bNPFJfJcoEQ0ZCBNj4cfy4JPLccOtP6ZC6gu05qHVbBaMnwGrvvkkfJ30ZAeQik5Jo8sra9QGjxhwSF4uKx6SdCgpnmet9kzT1Pwjszyt4JrzJZBOOSVZAwnZAk5HoZBtU9vBuUi1M9oIam9JuoC\"\n",
        "  response = requests.get(url)\n",
        "  data = response.json()\n",
        "\n",
        "  # caption의 Unicode를 한글로 변환하는 함수\n",
        "  def convert_unicode_to_korean(text):\n",
        "      return unicodedata.normalize(\"NFKD\", text)\n",
        "\n",
        "  # caption 정보 추출하여 변환\n",
        "  business_discovery = data.get(\"business_discovery\")\n",
        "  if business_discovery:\n",
        "      media_data = business_discovery.get(\"media\", {}).get(\"data\", [])  # media_data가 없을 경우 빈 리스트로 초기화\n",
        "      for media in media_data:\n",
        "          caption = media.get(\"caption\")\n",
        "          if caption:\n",
        "              korean_caption = convert_unicode_to_korean(caption)\n",
        "              media[\"caption\"] = korean_caption\n",
        "\n",
        "    media_data = business_discovery.get(\"media\")\n",
        "    if media_data:\n",
        "        media_list = []\n",
        "        for media in media_data.get(\"data\", []):\n",
        "            media_info = {\n",
        "                \"caption\": media.get(\"caption\"),\n",
        "                \"comments_count\": media.get(\"comments_count\"),\n",
        "                \"media_id\": int(media.get(\"id\")),\n",
        "                \"like_count\": media.get(\"like_count\"),\n",
        "                \"media_product_type\": media.get(\"media_product_type\"),\n",
        "                \"media_type\": media.get(\"media_type\"),\n",
        "                \"media_total_type\": [],\n",
        "                \"media_url\": media.get(\"media_url\"),\n",
        "                \"owner\": media.get(\"owner\"),\n",
        "                \"permalink\": media.get(\"permalink\"),\n",
        "                \"timestamp\": media.get(\"timestamp\"),\n",
        "                \"username\": media.get(\"username\")\n",
        "            }\n",
        "            media_list.append(media_info)\n",
        "\n",
        "  return media_list\n"
      ],
      "metadata": {
        "id": "4XBovxAoIGQ_"
      },
      "execution_count": null,
      "outputs": []
    }
  ]
}